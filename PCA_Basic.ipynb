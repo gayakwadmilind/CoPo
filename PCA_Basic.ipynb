{
  "nbformat": 4,
  "nbformat_minor": 0,
  "metadata": {
    "colab": {
      "provenance": [],
      "authorship_tag": "ABX9TyMJ4YtR6MK79FdOYQVRy71/",
      "include_colab_link": true
    },
    "kernelspec": {
      "name": "python3",
      "display_name": "Python 3"
    },
    "language_info": {
      "name": "python"
    }
  },
  "cells": [
    {
      "cell_type": "markdown",
      "metadata": {
        "id": "view-in-github",
        "colab_type": "text"
      },
      "source": [
        "<a href=\"https://colab.research.google.com/github/gayakwadmilind/CoPo/blob/main/PCA_Basic.ipynb\" target=\"_parent\"><img src=\"https://colab.research.google.com/assets/colab-badge.svg\" alt=\"Open In Colab\"/></a>"
      ]
    },
    {
      "cell_type": "code",
      "execution_count": 1,
      "metadata": {
        "colab": {
          "base_uri": "https://localhost:8080/"
        },
        "id": "WlhdbWLzgOZ-",
        "outputId": "e0f750e7-30db-4b45-fd5a-c273c1c5e33c"
      },
      "outputs": [
        {
          "output_type": "stream",
          "name": "stdout",
          "text": [
            "Original Data:\n",
            "    X1  X2\n",
            "0   2   3\n",
            "1   3   5\n",
            "2   5   7\n",
            "3   6   8\n",
            "4   8   9\n",
            "\n",
            "Standardized Data:\n",
            "          X1        X2\n",
            "0 -1.311220 -1.578410\n",
            "1 -0.842927 -0.649934\n",
            "2  0.093659  0.278543\n",
            "3  0.561951  0.742781\n",
            "4  1.498537  1.207020\n",
            "\n",
            "Covariance Matrix:\n",
            " [[1.25       1.21743733]\n",
            " [1.21743733 1.25      ]]\n",
            "\n",
            "Eigenvalues:\n",
            " [0.03256267 2.46743733]\n",
            "\n",
            "Eigenvectors:\n",
            " [[-0.70710678 -0.70710678]\n",
            " [ 0.70710678 -0.70710678]]\n",
            "\n",
            "Transformed Data (PCA, k=1):\n",
            " [[ 2.04327733]\n",
            " [ 1.05561208]\n",
            " [-0.26318627]\n",
            " [-0.92258544]\n",
            " [-1.9131177 ]]\n"
          ]
        }
      ],
      "source": [
        "import numpy as np\n",
        "import pandas as pd\n",
        "\n",
        "# Step 1: Create the dataset\n",
        "data = np.array([[2, 3],\n",
        "                 [3, 5],\n",
        "                 [5, 7],\n",
        "                 [6, 8],\n",
        "                 [8, 9]])\n",
        "\n",
        "# Convert the array to a pandas DataFrame for convenience\n",
        "df = pd.DataFrame(data, columns=['X1', 'X2'])\n",
        "\n",
        "# Step 2: Standardize the data (zero mean and unit variance)\n",
        "mean = np.mean(df, axis=0)\n",
        "std_dev = np.std(df, axis=0)\n",
        "df_standardized = (df - mean) / std_dev\n",
        "\n",
        "# Step 3: Calculate the covariance matrix\n",
        "cov_matrix = np.cov(df_standardized.T)\n",
        "\n",
        "# Step 4: Compute eigenvalues and eigenvectors\n",
        "eigenvalues, eigenvectors = np.linalg.eig(cov_matrix)\n",
        "\n",
        "# Step 5: Sort the eigenvalues in descending order\n",
        "sorted_indices = np.argsort(eigenvalues)[::-1]\n",
        "sorted_eigenvalues = eigenvalues[sorted_indices]\n",
        "sorted_eigenvectors = eigenvectors[:, sorted_indices]\n",
        "\n",
        "# Step 6: Choose the number of principal components (k)\n",
        "# Here, let's reduce the data to 1 dimension (PC1)\n",
        "k = 1\n",
        "eigenvectors_subset = sorted_eigenvectors[:, :k]\n",
        "\n",
        "# Step 7: Transform the data\n",
        "df_transformed = np.dot(df_standardized, eigenvectors_subset)\n",
        "\n",
        "# Results\n",
        "print(\"Original Data:\\n\", df)\n",
        "print(\"\\nStandardized Data:\\n\", df_standardized)\n",
        "print(\"\\nCovariance Matrix:\\n\", cov_matrix)\n",
        "print(\"\\nEigenvalues:\\n\", eigenvalues)\n",
        "print(\"\\nEigenvectors:\\n\", eigenvectors)\n",
        "print(\"\\nTransformed Data (PCA, k=1):\\n\", df_transformed)\n"
      ]
    }
  ]
}